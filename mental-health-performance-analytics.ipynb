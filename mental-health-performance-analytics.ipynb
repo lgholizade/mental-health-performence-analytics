{
 "cells": [
  {
   "cell_type": "markdown",
   "id": "e01b39d2-3969-4ac5-b1ce-b8095d1d529b",
   "metadata": {},
   "source": [
    "## 1. Import Libraries"
   ]
  },
  {
   "cell_type": "code",
   "execution_count": 314,
   "id": "53f6e373-14c9-4fda-9be3-cf3aa29b3d29",
   "metadata": {},
   "outputs": [],
   "source": [
    "import pandas as pd\n",
    "import matplotlib.pyplot as plt\n",
    "import seaborn as sns\n",
    "import os"
   ]
  },
  {
   "cell_type": "markdown",
   "id": "db671548-2932-49f8-bb66-3527d873dd3c",
   "metadata": {},
   "source": [
    "## 2. read and check out the data"
   ]
  },
  {
   "cell_type": "code",
   "execution_count": 317,
   "id": "ced9be35-94cd-49c9-bacd-22abbbb24dbc",
   "metadata": {},
   "outputs": [],
   "source": [
    "df = pd.read_csv('/Users/leilagholizadehzivlaei/Desktop/Dataset/New Project/Mental_Health.survey.csv')"
   ]
  },
  {
   "cell_type": "code",
   "execution_count": 319,
   "id": "c86ff31c-ddd0-4bac-b5de-3be8b82bbc24",
   "metadata": {},
   "outputs": [
    {
     "data": {
      "text/html": [
       "<div>\n",
       "<style scoped>\n",
       "    .dataframe tbody tr th:only-of-type {\n",
       "        vertical-align: middle;\n",
       "    }\n",
       "\n",
       "    .dataframe tbody tr th {\n",
       "        vertical-align: top;\n",
       "    }\n",
       "\n",
       "    .dataframe thead th {\n",
       "        text-align: right;\n",
       "    }\n",
       "</style>\n",
       "<table border=\"1\" class=\"dataframe\">\n",
       "  <thead>\n",
       "    <tr style=\"text-align: right;\">\n",
       "      <th></th>\n",
       "      <th>Timestamp</th>\n",
       "      <th>Age</th>\n",
       "      <th>Gender</th>\n",
       "      <th>Country</th>\n",
       "      <th>state</th>\n",
       "      <th>self_employed</th>\n",
       "      <th>family_history</th>\n",
       "      <th>treatment</th>\n",
       "      <th>work_interfere</th>\n",
       "      <th>no_employees</th>\n",
       "      <th>...</th>\n",
       "      <th>leave</th>\n",
       "      <th>mental_health_consequence</th>\n",
       "      <th>phys_health_consequence</th>\n",
       "      <th>coworkers</th>\n",
       "      <th>supervisor</th>\n",
       "      <th>mental_health_interview</th>\n",
       "      <th>phys_health_interview</th>\n",
       "      <th>mental_vs_physical</th>\n",
       "      <th>obs_consequence</th>\n",
       "      <th>comments</th>\n",
       "    </tr>\n",
       "  </thead>\n",
       "  <tbody>\n",
       "    <tr>\n",
       "      <th>0</th>\n",
       "      <td>2014-08-27 11:29:31</td>\n",
       "      <td>37</td>\n",
       "      <td>Female</td>\n",
       "      <td>United States</td>\n",
       "      <td>IL</td>\n",
       "      <td>NaN</td>\n",
       "      <td>No</td>\n",
       "      <td>Yes</td>\n",
       "      <td>Often</td>\n",
       "      <td>6-25</td>\n",
       "      <td>...</td>\n",
       "      <td>Somewhat easy</td>\n",
       "      <td>No</td>\n",
       "      <td>No</td>\n",
       "      <td>Some of them</td>\n",
       "      <td>Yes</td>\n",
       "      <td>No</td>\n",
       "      <td>Maybe</td>\n",
       "      <td>Yes</td>\n",
       "      <td>No</td>\n",
       "      <td>NaN</td>\n",
       "    </tr>\n",
       "    <tr>\n",
       "      <th>1</th>\n",
       "      <td>2014-08-27 11:29:37</td>\n",
       "      <td>44</td>\n",
       "      <td>M</td>\n",
       "      <td>United States</td>\n",
       "      <td>IN</td>\n",
       "      <td>NaN</td>\n",
       "      <td>No</td>\n",
       "      <td>No</td>\n",
       "      <td>Rarely</td>\n",
       "      <td>More than 1000</td>\n",
       "      <td>...</td>\n",
       "      <td>Don't know</td>\n",
       "      <td>Maybe</td>\n",
       "      <td>No</td>\n",
       "      <td>No</td>\n",
       "      <td>No</td>\n",
       "      <td>No</td>\n",
       "      <td>No</td>\n",
       "      <td>Don't know</td>\n",
       "      <td>No</td>\n",
       "      <td>NaN</td>\n",
       "    </tr>\n",
       "    <tr>\n",
       "      <th>2</th>\n",
       "      <td>2014-08-27 11:29:44</td>\n",
       "      <td>32</td>\n",
       "      <td>Male</td>\n",
       "      <td>Canada</td>\n",
       "      <td>NaN</td>\n",
       "      <td>NaN</td>\n",
       "      <td>No</td>\n",
       "      <td>No</td>\n",
       "      <td>Rarely</td>\n",
       "      <td>6-25</td>\n",
       "      <td>...</td>\n",
       "      <td>Somewhat difficult</td>\n",
       "      <td>No</td>\n",
       "      <td>No</td>\n",
       "      <td>Yes</td>\n",
       "      <td>Yes</td>\n",
       "      <td>Yes</td>\n",
       "      <td>Yes</td>\n",
       "      <td>No</td>\n",
       "      <td>No</td>\n",
       "      <td>NaN</td>\n",
       "    </tr>\n",
       "    <tr>\n",
       "      <th>3</th>\n",
       "      <td>2014-08-27 11:29:46</td>\n",
       "      <td>31</td>\n",
       "      <td>Male</td>\n",
       "      <td>United Kingdom</td>\n",
       "      <td>NaN</td>\n",
       "      <td>NaN</td>\n",
       "      <td>Yes</td>\n",
       "      <td>Yes</td>\n",
       "      <td>Often</td>\n",
       "      <td>26-100</td>\n",
       "      <td>...</td>\n",
       "      <td>Somewhat difficult</td>\n",
       "      <td>Yes</td>\n",
       "      <td>Yes</td>\n",
       "      <td>Some of them</td>\n",
       "      <td>No</td>\n",
       "      <td>Maybe</td>\n",
       "      <td>Maybe</td>\n",
       "      <td>No</td>\n",
       "      <td>Yes</td>\n",
       "      <td>NaN</td>\n",
       "    </tr>\n",
       "    <tr>\n",
       "      <th>4</th>\n",
       "      <td>2014-08-27 11:30:22</td>\n",
       "      <td>31</td>\n",
       "      <td>Male</td>\n",
       "      <td>United States</td>\n",
       "      <td>TX</td>\n",
       "      <td>NaN</td>\n",
       "      <td>No</td>\n",
       "      <td>No</td>\n",
       "      <td>Never</td>\n",
       "      <td>100-500</td>\n",
       "      <td>...</td>\n",
       "      <td>Don't know</td>\n",
       "      <td>No</td>\n",
       "      <td>No</td>\n",
       "      <td>Some of them</td>\n",
       "      <td>Yes</td>\n",
       "      <td>Yes</td>\n",
       "      <td>Yes</td>\n",
       "      <td>Don't know</td>\n",
       "      <td>No</td>\n",
       "      <td>NaN</td>\n",
       "    </tr>\n",
       "  </tbody>\n",
       "</table>\n",
       "<p>5 rows × 27 columns</p>\n",
       "</div>"
      ],
      "text/plain": [
       "             Timestamp  Age  Gender         Country state self_employed  \\\n",
       "0  2014-08-27 11:29:31   37  Female   United States    IL           NaN   \n",
       "1  2014-08-27 11:29:37   44       M   United States    IN           NaN   \n",
       "2  2014-08-27 11:29:44   32    Male          Canada   NaN           NaN   \n",
       "3  2014-08-27 11:29:46   31    Male  United Kingdom   NaN           NaN   \n",
       "4  2014-08-27 11:30:22   31    Male   United States    TX           NaN   \n",
       "\n",
       "  family_history treatment work_interfere    no_employees  ...  \\\n",
       "0             No       Yes          Often            6-25  ...   \n",
       "1             No        No         Rarely  More than 1000  ...   \n",
       "2             No        No         Rarely            6-25  ...   \n",
       "3            Yes       Yes          Often          26-100  ...   \n",
       "4             No        No          Never         100-500  ...   \n",
       "\n",
       "                leave mental_health_consequence phys_health_consequence  \\\n",
       "0       Somewhat easy                        No                      No   \n",
       "1          Don't know                     Maybe                      No   \n",
       "2  Somewhat difficult                        No                      No   \n",
       "3  Somewhat difficult                       Yes                     Yes   \n",
       "4          Don't know                        No                      No   \n",
       "\n",
       "      coworkers supervisor mental_health_interview phys_health_interview  \\\n",
       "0  Some of them        Yes                      No                 Maybe   \n",
       "1            No         No                      No                    No   \n",
       "2           Yes        Yes                     Yes                   Yes   \n",
       "3  Some of them         No                   Maybe                 Maybe   \n",
       "4  Some of them        Yes                     Yes                   Yes   \n",
       "\n",
       "  mental_vs_physical obs_consequence comments  \n",
       "0                Yes              No      NaN  \n",
       "1         Don't know              No      NaN  \n",
       "2                 No              No      NaN  \n",
       "3                 No             Yes      NaN  \n",
       "4         Don't know              No      NaN  \n",
       "\n",
       "[5 rows x 27 columns]"
      ]
     },
     "execution_count": 319,
     "metadata": {},
     "output_type": "execute_result"
    }
   ],
   "source": [
    "df.head()"
   ]
  },
  {
   "cell_type": "code",
   "execution_count": 321,
   "id": "50bbff93-f9b0-4866-a231-86fefe560f64",
   "metadata": {},
   "outputs": [
    {
     "name": "stdout",
     "output_type": "stream",
     "text": [
      "<class 'pandas.core.frame.DataFrame'>\n",
      "RangeIndex: 1259 entries, 0 to 1258\n",
      "Data columns (total 27 columns):\n",
      " #   Column                     Non-Null Count  Dtype \n",
      "---  ------                     --------------  ----- \n",
      " 0   Timestamp                  1259 non-null   object\n",
      " 1   Age                        1259 non-null   int64 \n",
      " 2   Gender                     1259 non-null   object\n",
      " 3   Country                    1259 non-null   object\n",
      " 4   state                      744 non-null    object\n",
      " 5   self_employed              1241 non-null   object\n",
      " 6   family_history             1259 non-null   object\n",
      " 7   treatment                  1259 non-null   object\n",
      " 8   work_interfere             995 non-null    object\n",
      " 9   no_employees               1259 non-null   object\n",
      " 10  remote_work                1259 non-null   object\n",
      " 11  tech_company               1259 non-null   object\n",
      " 12  benefits                   1259 non-null   object\n",
      " 13  care_options               1259 non-null   object\n",
      " 14  wellness_program           1259 non-null   object\n",
      " 15  seek_help                  1259 non-null   object\n",
      " 16  anonymity                  1259 non-null   object\n",
      " 17  leave                      1259 non-null   object\n",
      " 18  mental_health_consequence  1259 non-null   object\n",
      " 19  phys_health_consequence    1259 non-null   object\n",
      " 20  coworkers                  1259 non-null   object\n",
      " 21  supervisor                 1259 non-null   object\n",
      " 22  mental_health_interview    1259 non-null   object\n",
      " 23  phys_health_interview      1259 non-null   object\n",
      " 24  mental_vs_physical         1259 non-null   object\n",
      " 25  obs_consequence            1259 non-null   object\n",
      " 26  comments                   164 non-null    object\n",
      "dtypes: int64(1), object(26)\n",
      "memory usage: 265.7+ KB\n"
     ]
    }
   ],
   "source": [
    "df.info()"
   ]
  },
  {
   "cell_type": "code",
   "execution_count": 323,
   "id": "5e2ed2a8-cc9b-4138-8fcf-01f75892fc10",
   "metadata": {
    "scrolled": true
   },
   "outputs": [
    {
     "data": {
      "text/html": [
       "<div>\n",
       "<style scoped>\n",
       "    .dataframe tbody tr th:only-of-type {\n",
       "        vertical-align: middle;\n",
       "    }\n",
       "\n",
       "    .dataframe tbody tr th {\n",
       "        vertical-align: top;\n",
       "    }\n",
       "\n",
       "    .dataframe thead th {\n",
       "        text-align: right;\n",
       "    }\n",
       "</style>\n",
       "<table border=\"1\" class=\"dataframe\">\n",
       "  <thead>\n",
       "    <tr style=\"text-align: right;\">\n",
       "      <th></th>\n",
       "      <th>Age</th>\n",
       "    </tr>\n",
       "  </thead>\n",
       "  <tbody>\n",
       "    <tr>\n",
       "      <th>count</th>\n",
       "      <td>1.259000e+03</td>\n",
       "    </tr>\n",
       "    <tr>\n",
       "      <th>mean</th>\n",
       "      <td>7.942815e+07</td>\n",
       "    </tr>\n",
       "    <tr>\n",
       "      <th>std</th>\n",
       "      <td>2.818299e+09</td>\n",
       "    </tr>\n",
       "    <tr>\n",
       "      <th>min</th>\n",
       "      <td>-1.726000e+03</td>\n",
       "    </tr>\n",
       "    <tr>\n",
       "      <th>25%</th>\n",
       "      <td>2.700000e+01</td>\n",
       "    </tr>\n",
       "    <tr>\n",
       "      <th>50%</th>\n",
       "      <td>3.100000e+01</td>\n",
       "    </tr>\n",
       "    <tr>\n",
       "      <th>75%</th>\n",
       "      <td>3.600000e+01</td>\n",
       "    </tr>\n",
       "    <tr>\n",
       "      <th>max</th>\n",
       "      <td>1.000000e+11</td>\n",
       "    </tr>\n",
       "  </tbody>\n",
       "</table>\n",
       "</div>"
      ],
      "text/plain": [
       "                Age\n",
       "count  1.259000e+03\n",
       "mean   7.942815e+07\n",
       "std    2.818299e+09\n",
       "min   -1.726000e+03\n",
       "25%    2.700000e+01\n",
       "50%    3.100000e+01\n",
       "75%    3.600000e+01\n",
       "max    1.000000e+11"
      ]
     },
     "execution_count": 323,
     "metadata": {},
     "output_type": "execute_result"
    }
   ],
   "source": [
    "df.describe()"
   ]
  },
  {
   "cell_type": "markdown",
   "id": "77c929ab-7495-4cb1-a590-5005a8dfdf04",
   "metadata": {},
   "source": [
    "## 3. Data Preprocessing (Data Cleaning)"
   ]
  },
  {
   "cell_type": "markdown",
   "id": "0bef146e-dfa0-4edc-864c-d05891fd612a",
   "metadata": {},
   "source": [
    "### 3.1. Check Initial Data Quality"
   ]
  },
  {
   "cell_type": "code",
   "execution_count": 327,
   "id": "d7d33b7c-4ab6-4a55-a8c1-82515c20e4ef",
   "metadata": {},
   "outputs": [
    {
     "name": "stdout",
     "output_type": "stream",
     "text": [
      "\n",
      "Data shape: (1259, 27)\n"
     ]
    }
   ],
   "source": [
    "print(\"\\nData shape:\", df.shape)\n"
   ]
  },
  {
   "cell_type": "code",
   "execution_count": 329,
   "id": "d7a15a4b-5c01-4084-b5e2-c0583ddba902",
   "metadata": {},
   "outputs": [
    {
     "name": "stdout",
     "output_type": "stream",
     "text": [
      "\n",
      "Missing values summary:\n",
      " Timestamp                       0\n",
      "Age                             0\n",
      "Gender                          0\n",
      "Country                         0\n",
      "state                         515\n",
      "self_employed                  18\n",
      "family_history                  0\n",
      "treatment                       0\n",
      "work_interfere                264\n",
      "no_employees                    0\n",
      "remote_work                     0\n",
      "tech_company                    0\n",
      "benefits                        0\n",
      "care_options                    0\n",
      "wellness_program                0\n",
      "seek_help                       0\n",
      "anonymity                       0\n",
      "leave                           0\n",
      "mental_health_consequence       0\n",
      "phys_health_consequence         0\n",
      "coworkers                       0\n",
      "supervisor                      0\n",
      "mental_health_interview         0\n",
      "phys_health_interview           0\n",
      "mental_vs_physical              0\n",
      "obs_consequence                 0\n",
      "comments                     1095\n",
      "dtype: int64\n"
     ]
    }
   ],
   "source": [
    "print(\"\\nMissing values summary:\\n\", df.isnull().sum())"
   ]
  },
  {
   "cell_type": "markdown",
   "id": "b792dceb-a2ce-4be2-9d70-381230e1eca6",
   "metadata": {},
   "source": [
    "### 3.2. Fix Invalid Age Values"
   ]
  },
  {
   "cell_type": "code",
   "execution_count": 332,
   "id": "631a0879-81bf-456a-9d07-4926e090adbf",
   "metadata": {},
   "outputs": [],
   "source": [
    "# Remove rows with invalid ages (keep 18–80 range)\n",
    "\n",
    "df = df[(df['Age'] >= 18) & (df['Age'] <= 80)]"
   ]
  },
  {
   "cell_type": "markdown",
   "id": "45bcf884-4810-4705-a525-db33b7b631f0",
   "metadata": {},
   "source": [
    "### 3.3. Normalize Gender"
   ]
  },
  {
   "cell_type": "code",
   "execution_count": 335,
   "id": "be827efe-f749-4f13-9916-33b3c9680066",
   "metadata": {},
   "outputs": [],
   "source": [
    "# Convert gender to consistent categories ( Converts all letters to lowercase,Example: \"FEMALE\" → \"female\" & Removes any leading or trailing spaces\n",
    "# Example: \" male \" → \"male\" .\n",
    "df['Gender'] = df['Gender'].str.lower().str.strip()\n",
    "\n",
    "df['Gender'] = df['Gender'].str.lower().str.strip().apply(\n",
    "    lambda x: 'male' if 'male' in x or x in ['m', 'man'] else\n",
    "              'female' if 'female' in x or x in ['f', 'woman'] else\n",
    "              'other'\n",
    ")"
   ]
  },
  {
   "cell_type": "markdown",
   "id": "b93a8105-5c9d-40d4-bbbb-276871d8cbbd",
   "metadata": {},
   "source": [
    "### 3.4. Parse Timestamp Column to datetime or Date"
   ]
  },
  {
   "cell_type": "code",
   "execution_count": 338,
   "id": "6de93ae1-5ce7-48d3-b913-5ba54cb1f6bc",
   "metadata": {},
   "outputs": [],
   "source": [
    "df['Timestamp'] = pd.to_datetime(df['Timestamp'])"
   ]
  },
  {
   "cell_type": "markdown",
   "id": "503e099f-a721-4cd5-b15d-26fddb64fca7",
   "metadata": {},
   "source": [
    "### 3.5. Handle Missing Values"
   ]
  },
  {
   "cell_type": "code",
   "execution_count": 341,
   "id": "47d7a52b-9b82-4bbd-990e-3f61845cd653",
   "metadata": {},
   "outputs": [],
   "source": [
    "# Fill with 'Unknown' or mode\n",
    "df['self_employed'] = df['self_employed'].fillna('Unknown')\n",
    "df['work_interfere'] = df['work_interfere'].fillna('Unknown')\n",
    "df['state'] = df['state'].fillna('Unknown')\n"
   ]
  },
  {
   "cell_type": "markdown",
   "id": "9a93f304-3925-4606-a972-2968001d3563",
   "metadata": {},
   "source": [
    "### 3.6. Drop Comment Column (if not needed)"
   ]
  },
  {
   "cell_type": "code",
   "execution_count": 344,
   "id": "6d9f9925-7878-4a6d-8a7e-6be2369b7569",
   "metadata": {},
   "outputs": [],
   "source": [
    "df.drop(columns=['comments'], inplace=True)"
   ]
  },
  {
   "cell_type": "code",
   "execution_count": 346,
   "id": "32fbadbc-1c0a-4bc9-936f-2242da5a90be",
   "metadata": {},
   "outputs": [
    {
     "data": {
      "text/html": [
       "<div>\n",
       "<style scoped>\n",
       "    .dataframe tbody tr th:only-of-type {\n",
       "        vertical-align: middle;\n",
       "    }\n",
       "\n",
       "    .dataframe tbody tr th {\n",
       "        vertical-align: top;\n",
       "    }\n",
       "\n",
       "    .dataframe thead th {\n",
       "        text-align: right;\n",
       "    }\n",
       "</style>\n",
       "<table border=\"1\" class=\"dataframe\">\n",
       "  <thead>\n",
       "    <tr style=\"text-align: right;\">\n",
       "      <th></th>\n",
       "      <th>Timestamp</th>\n",
       "      <th>Age</th>\n",
       "      <th>Gender</th>\n",
       "      <th>Country</th>\n",
       "      <th>state</th>\n",
       "      <th>self_employed</th>\n",
       "      <th>family_history</th>\n",
       "      <th>treatment</th>\n",
       "      <th>work_interfere</th>\n",
       "      <th>no_employees</th>\n",
       "      <th>...</th>\n",
       "      <th>anonymity</th>\n",
       "      <th>leave</th>\n",
       "      <th>mental_health_consequence</th>\n",
       "      <th>phys_health_consequence</th>\n",
       "      <th>coworkers</th>\n",
       "      <th>supervisor</th>\n",
       "      <th>mental_health_interview</th>\n",
       "      <th>phys_health_interview</th>\n",
       "      <th>mental_vs_physical</th>\n",
       "      <th>obs_consequence</th>\n",
       "    </tr>\n",
       "  </thead>\n",
       "  <tbody>\n",
       "    <tr>\n",
       "      <th>0</th>\n",
       "      <td>2014-08-27 11:29:31</td>\n",
       "      <td>37</td>\n",
       "      <td>male</td>\n",
       "      <td>United States</td>\n",
       "      <td>IL</td>\n",
       "      <td>Unknown</td>\n",
       "      <td>No</td>\n",
       "      <td>Yes</td>\n",
       "      <td>Often</td>\n",
       "      <td>6-25</td>\n",
       "      <td>...</td>\n",
       "      <td>Yes</td>\n",
       "      <td>Somewhat easy</td>\n",
       "      <td>No</td>\n",
       "      <td>No</td>\n",
       "      <td>Some of them</td>\n",
       "      <td>Yes</td>\n",
       "      <td>No</td>\n",
       "      <td>Maybe</td>\n",
       "      <td>Yes</td>\n",
       "      <td>No</td>\n",
       "    </tr>\n",
       "    <tr>\n",
       "      <th>1</th>\n",
       "      <td>2014-08-27 11:29:37</td>\n",
       "      <td>44</td>\n",
       "      <td>male</td>\n",
       "      <td>United States</td>\n",
       "      <td>IN</td>\n",
       "      <td>Unknown</td>\n",
       "      <td>No</td>\n",
       "      <td>No</td>\n",
       "      <td>Rarely</td>\n",
       "      <td>More than 1000</td>\n",
       "      <td>...</td>\n",
       "      <td>Don't know</td>\n",
       "      <td>Don't know</td>\n",
       "      <td>Maybe</td>\n",
       "      <td>No</td>\n",
       "      <td>No</td>\n",
       "      <td>No</td>\n",
       "      <td>No</td>\n",
       "      <td>No</td>\n",
       "      <td>Don't know</td>\n",
       "      <td>No</td>\n",
       "    </tr>\n",
       "    <tr>\n",
       "      <th>2</th>\n",
       "      <td>2014-08-27 11:29:44</td>\n",
       "      <td>32</td>\n",
       "      <td>male</td>\n",
       "      <td>Canada</td>\n",
       "      <td>Unknown</td>\n",
       "      <td>Unknown</td>\n",
       "      <td>No</td>\n",
       "      <td>No</td>\n",
       "      <td>Rarely</td>\n",
       "      <td>6-25</td>\n",
       "      <td>...</td>\n",
       "      <td>Don't know</td>\n",
       "      <td>Somewhat difficult</td>\n",
       "      <td>No</td>\n",
       "      <td>No</td>\n",
       "      <td>Yes</td>\n",
       "      <td>Yes</td>\n",
       "      <td>Yes</td>\n",
       "      <td>Yes</td>\n",
       "      <td>No</td>\n",
       "      <td>No</td>\n",
       "    </tr>\n",
       "    <tr>\n",
       "      <th>3</th>\n",
       "      <td>2014-08-27 11:29:46</td>\n",
       "      <td>31</td>\n",
       "      <td>male</td>\n",
       "      <td>United Kingdom</td>\n",
       "      <td>Unknown</td>\n",
       "      <td>Unknown</td>\n",
       "      <td>Yes</td>\n",
       "      <td>Yes</td>\n",
       "      <td>Often</td>\n",
       "      <td>26-100</td>\n",
       "      <td>...</td>\n",
       "      <td>No</td>\n",
       "      <td>Somewhat difficult</td>\n",
       "      <td>Yes</td>\n",
       "      <td>Yes</td>\n",
       "      <td>Some of them</td>\n",
       "      <td>No</td>\n",
       "      <td>Maybe</td>\n",
       "      <td>Maybe</td>\n",
       "      <td>No</td>\n",
       "      <td>Yes</td>\n",
       "    </tr>\n",
       "    <tr>\n",
       "      <th>4</th>\n",
       "      <td>2014-08-27 11:30:22</td>\n",
       "      <td>31</td>\n",
       "      <td>male</td>\n",
       "      <td>United States</td>\n",
       "      <td>TX</td>\n",
       "      <td>Unknown</td>\n",
       "      <td>No</td>\n",
       "      <td>No</td>\n",
       "      <td>Never</td>\n",
       "      <td>100-500</td>\n",
       "      <td>...</td>\n",
       "      <td>Don't know</td>\n",
       "      <td>Don't know</td>\n",
       "      <td>No</td>\n",
       "      <td>No</td>\n",
       "      <td>Some of them</td>\n",
       "      <td>Yes</td>\n",
       "      <td>Yes</td>\n",
       "      <td>Yes</td>\n",
       "      <td>Don't know</td>\n",
       "      <td>No</td>\n",
       "    </tr>\n",
       "    <tr>\n",
       "      <th>...</th>\n",
       "      <td>...</td>\n",
       "      <td>...</td>\n",
       "      <td>...</td>\n",
       "      <td>...</td>\n",
       "      <td>...</td>\n",
       "      <td>...</td>\n",
       "      <td>...</td>\n",
       "      <td>...</td>\n",
       "      <td>...</td>\n",
       "      <td>...</td>\n",
       "      <td>...</td>\n",
       "      <td>...</td>\n",
       "      <td>...</td>\n",
       "      <td>...</td>\n",
       "      <td>...</td>\n",
       "      <td>...</td>\n",
       "      <td>...</td>\n",
       "      <td>...</td>\n",
       "      <td>...</td>\n",
       "      <td>...</td>\n",
       "      <td>...</td>\n",
       "    </tr>\n",
       "    <tr>\n",
       "      <th>1254</th>\n",
       "      <td>2015-09-12 11:17:21</td>\n",
       "      <td>26</td>\n",
       "      <td>male</td>\n",
       "      <td>United Kingdom</td>\n",
       "      <td>Unknown</td>\n",
       "      <td>No</td>\n",
       "      <td>No</td>\n",
       "      <td>Yes</td>\n",
       "      <td>Unknown</td>\n",
       "      <td>26-100</td>\n",
       "      <td>...</td>\n",
       "      <td>Don't know</td>\n",
       "      <td>Somewhat easy</td>\n",
       "      <td>No</td>\n",
       "      <td>No</td>\n",
       "      <td>Some of them</td>\n",
       "      <td>Some of them</td>\n",
       "      <td>No</td>\n",
       "      <td>No</td>\n",
       "      <td>Don't know</td>\n",
       "      <td>No</td>\n",
       "    </tr>\n",
       "    <tr>\n",
       "      <th>1255</th>\n",
       "      <td>2015-09-26 01:07:35</td>\n",
       "      <td>32</td>\n",
       "      <td>male</td>\n",
       "      <td>United States</td>\n",
       "      <td>IL</td>\n",
       "      <td>No</td>\n",
       "      <td>Yes</td>\n",
       "      <td>Yes</td>\n",
       "      <td>Often</td>\n",
       "      <td>26-100</td>\n",
       "      <td>...</td>\n",
       "      <td>Yes</td>\n",
       "      <td>Somewhat difficult</td>\n",
       "      <td>No</td>\n",
       "      <td>No</td>\n",
       "      <td>Some of them</td>\n",
       "      <td>Yes</td>\n",
       "      <td>No</td>\n",
       "      <td>No</td>\n",
       "      <td>Yes</td>\n",
       "      <td>No</td>\n",
       "    </tr>\n",
       "    <tr>\n",
       "      <th>1256</th>\n",
       "      <td>2015-11-07 12:36:58</td>\n",
       "      <td>34</td>\n",
       "      <td>male</td>\n",
       "      <td>United States</td>\n",
       "      <td>CA</td>\n",
       "      <td>No</td>\n",
       "      <td>Yes</td>\n",
       "      <td>Yes</td>\n",
       "      <td>Sometimes</td>\n",
       "      <td>More than 1000</td>\n",
       "      <td>...</td>\n",
       "      <td>Don't know</td>\n",
       "      <td>Somewhat difficult</td>\n",
       "      <td>Yes</td>\n",
       "      <td>Yes</td>\n",
       "      <td>No</td>\n",
       "      <td>No</td>\n",
       "      <td>No</td>\n",
       "      <td>No</td>\n",
       "      <td>No</td>\n",
       "      <td>No</td>\n",
       "    </tr>\n",
       "    <tr>\n",
       "      <th>1257</th>\n",
       "      <td>2015-11-30 21:25:06</td>\n",
       "      <td>46</td>\n",
       "      <td>female</td>\n",
       "      <td>United States</td>\n",
       "      <td>NC</td>\n",
       "      <td>No</td>\n",
       "      <td>No</td>\n",
       "      <td>No</td>\n",
       "      <td>Unknown</td>\n",
       "      <td>100-500</td>\n",
       "      <td>...</td>\n",
       "      <td>Don't know</td>\n",
       "      <td>Don't know</td>\n",
       "      <td>Yes</td>\n",
       "      <td>No</td>\n",
       "      <td>No</td>\n",
       "      <td>No</td>\n",
       "      <td>No</td>\n",
       "      <td>No</td>\n",
       "      <td>No</td>\n",
       "      <td>No</td>\n",
       "    </tr>\n",
       "    <tr>\n",
       "      <th>1258</th>\n",
       "      <td>2016-02-01 23:04:31</td>\n",
       "      <td>25</td>\n",
       "      <td>male</td>\n",
       "      <td>United States</td>\n",
       "      <td>IL</td>\n",
       "      <td>No</td>\n",
       "      <td>Yes</td>\n",
       "      <td>Yes</td>\n",
       "      <td>Sometimes</td>\n",
       "      <td>26-100</td>\n",
       "      <td>...</td>\n",
       "      <td>Yes</td>\n",
       "      <td>Don't know</td>\n",
       "      <td>Maybe</td>\n",
       "      <td>No</td>\n",
       "      <td>Some of them</td>\n",
       "      <td>No</td>\n",
       "      <td>No</td>\n",
       "      <td>No</td>\n",
       "      <td>Don't know</td>\n",
       "      <td>No</td>\n",
       "    </tr>\n",
       "  </tbody>\n",
       "</table>\n",
       "<p>1251 rows × 26 columns</p>\n",
       "</div>"
      ],
      "text/plain": [
       "               Timestamp  Age  Gender         Country    state self_employed  \\\n",
       "0    2014-08-27 11:29:31   37    male   United States       IL       Unknown   \n",
       "1    2014-08-27 11:29:37   44    male   United States       IN       Unknown   \n",
       "2    2014-08-27 11:29:44   32    male          Canada  Unknown       Unknown   \n",
       "3    2014-08-27 11:29:46   31    male  United Kingdom  Unknown       Unknown   \n",
       "4    2014-08-27 11:30:22   31    male   United States       TX       Unknown   \n",
       "...                  ...  ...     ...             ...      ...           ...   \n",
       "1254 2015-09-12 11:17:21   26    male  United Kingdom  Unknown            No   \n",
       "1255 2015-09-26 01:07:35   32    male   United States       IL            No   \n",
       "1256 2015-11-07 12:36:58   34    male   United States       CA            No   \n",
       "1257 2015-11-30 21:25:06   46  female   United States       NC            No   \n",
       "1258 2016-02-01 23:04:31   25    male   United States       IL            No   \n",
       "\n",
       "     family_history treatment work_interfere    no_employees  ...   anonymity  \\\n",
       "0                No       Yes          Often            6-25  ...         Yes   \n",
       "1                No        No         Rarely  More than 1000  ...  Don't know   \n",
       "2                No        No         Rarely            6-25  ...  Don't know   \n",
       "3               Yes       Yes          Often          26-100  ...          No   \n",
       "4                No        No          Never         100-500  ...  Don't know   \n",
       "...             ...       ...            ...             ...  ...         ...   \n",
       "1254             No       Yes        Unknown          26-100  ...  Don't know   \n",
       "1255            Yes       Yes          Often          26-100  ...         Yes   \n",
       "1256            Yes       Yes      Sometimes  More than 1000  ...  Don't know   \n",
       "1257             No        No        Unknown         100-500  ...  Don't know   \n",
       "1258            Yes       Yes      Sometimes          26-100  ...         Yes   \n",
       "\n",
       "                   leave mental_health_consequence phys_health_consequence  \\\n",
       "0          Somewhat easy                        No                      No   \n",
       "1             Don't know                     Maybe                      No   \n",
       "2     Somewhat difficult                        No                      No   \n",
       "3     Somewhat difficult                       Yes                     Yes   \n",
       "4             Don't know                        No                      No   \n",
       "...                  ...                       ...                     ...   \n",
       "1254       Somewhat easy                        No                      No   \n",
       "1255  Somewhat difficult                        No                      No   \n",
       "1256  Somewhat difficult                       Yes                     Yes   \n",
       "1257          Don't know                       Yes                      No   \n",
       "1258          Don't know                     Maybe                      No   \n",
       "\n",
       "         coworkers    supervisor mental_health_interview  \\\n",
       "0     Some of them           Yes                      No   \n",
       "1               No            No                      No   \n",
       "2              Yes           Yes                     Yes   \n",
       "3     Some of them            No                   Maybe   \n",
       "4     Some of them           Yes                     Yes   \n",
       "...            ...           ...                     ...   \n",
       "1254  Some of them  Some of them                      No   \n",
       "1255  Some of them           Yes                      No   \n",
       "1256            No            No                      No   \n",
       "1257            No            No                      No   \n",
       "1258  Some of them            No                      No   \n",
       "\n",
       "     phys_health_interview mental_vs_physical obs_consequence  \n",
       "0                    Maybe                Yes              No  \n",
       "1                       No         Don't know              No  \n",
       "2                      Yes                 No              No  \n",
       "3                    Maybe                 No             Yes  \n",
       "4                      Yes         Don't know              No  \n",
       "...                    ...                ...             ...  \n",
       "1254                    No         Don't know              No  \n",
       "1255                    No                Yes              No  \n",
       "1256                    No                 No              No  \n",
       "1257                    No                 No              No  \n",
       "1258                    No         Don't know              No  \n",
       "\n",
       "[1251 rows x 26 columns]"
      ]
     },
     "execution_count": 346,
     "metadata": {},
     "output_type": "execute_result"
    }
   ],
   "source": [
    "df"
   ]
  },
  {
   "cell_type": "markdown",
   "id": "a72ace17-39a4-441f-bca3-ab16f8d41e6a",
   "metadata": {},
   "source": [
    "## 4. Save Cleaned Data"
   ]
  },
  {
   "cell_type": "code",
   "execution_count": 349,
   "id": "0f9157f9-54ce-4c96-bf2b-18c34d8fbfe3",
   "metadata": {},
   "outputs": [
    {
     "name": "stdout",
     "output_type": "stream",
     "text": [
      "✅ DataFrame saved to df/cleaned_data.csv\n"
     ]
    }
   ],
   "source": [
    "# 1. Create folder (if not exists)\n",
    "os.makedirs(\"df\", exist_ok=True)\n",
    "\n",
    "# 2. Save DataFrame as CSV inside that folder\n",
    "df.to_csv(\"df/cleaned_data.csv\", index=False)\n",
    "\n",
    "# 3. Optional: print confirmation\n",
    "print(\"✅ DataFrame saved to df/cleaned_data.csv\")"
   ]
  },
  {
   "cell_type": "code",
   "execution_count": 351,
   "id": "e8ef6923-b4cb-4391-b8c2-339f5b1f8b35",
   "metadata": {},
   "outputs": [],
   "source": [
    "df = pd.read_csv(\"df/cleaned_data.csv\")"
   ]
  },
  {
   "cell_type": "code",
   "execution_count": 353,
   "id": "2a3a7fa8-481d-4dfa-912f-2f423e2bb07a",
   "metadata": {},
   "outputs": [
    {
     "data": {
      "text/html": [
       "<div>\n",
       "<style scoped>\n",
       "    .dataframe tbody tr th:only-of-type {\n",
       "        vertical-align: middle;\n",
       "    }\n",
       "\n",
       "    .dataframe tbody tr th {\n",
       "        vertical-align: top;\n",
       "    }\n",
       "\n",
       "    .dataframe thead th {\n",
       "        text-align: right;\n",
       "    }\n",
       "</style>\n",
       "<table border=\"1\" class=\"dataframe\">\n",
       "  <thead>\n",
       "    <tr style=\"text-align: right;\">\n",
       "      <th></th>\n",
       "      <th>Timestamp</th>\n",
       "      <th>Age</th>\n",
       "      <th>Gender</th>\n",
       "      <th>Country</th>\n",
       "      <th>state</th>\n",
       "      <th>self_employed</th>\n",
       "      <th>family_history</th>\n",
       "      <th>treatment</th>\n",
       "      <th>work_interfere</th>\n",
       "      <th>no_employees</th>\n",
       "      <th>...</th>\n",
       "      <th>anonymity</th>\n",
       "      <th>leave</th>\n",
       "      <th>mental_health_consequence</th>\n",
       "      <th>phys_health_consequence</th>\n",
       "      <th>coworkers</th>\n",
       "      <th>supervisor</th>\n",
       "      <th>mental_health_interview</th>\n",
       "      <th>phys_health_interview</th>\n",
       "      <th>mental_vs_physical</th>\n",
       "      <th>obs_consequence</th>\n",
       "    </tr>\n",
       "  </thead>\n",
       "  <tbody>\n",
       "    <tr>\n",
       "      <th>0</th>\n",
       "      <td>2014-08-27 11:29:31</td>\n",
       "      <td>37</td>\n",
       "      <td>male</td>\n",
       "      <td>United States</td>\n",
       "      <td>IL</td>\n",
       "      <td>Unknown</td>\n",
       "      <td>No</td>\n",
       "      <td>Yes</td>\n",
       "      <td>Often</td>\n",
       "      <td>6-25</td>\n",
       "      <td>...</td>\n",
       "      <td>Yes</td>\n",
       "      <td>Somewhat easy</td>\n",
       "      <td>No</td>\n",
       "      <td>No</td>\n",
       "      <td>Some of them</td>\n",
       "      <td>Yes</td>\n",
       "      <td>No</td>\n",
       "      <td>Maybe</td>\n",
       "      <td>Yes</td>\n",
       "      <td>No</td>\n",
       "    </tr>\n",
       "    <tr>\n",
       "      <th>1</th>\n",
       "      <td>2014-08-27 11:29:37</td>\n",
       "      <td>44</td>\n",
       "      <td>male</td>\n",
       "      <td>United States</td>\n",
       "      <td>IN</td>\n",
       "      <td>Unknown</td>\n",
       "      <td>No</td>\n",
       "      <td>No</td>\n",
       "      <td>Rarely</td>\n",
       "      <td>More than 1000</td>\n",
       "      <td>...</td>\n",
       "      <td>Don't know</td>\n",
       "      <td>Don't know</td>\n",
       "      <td>Maybe</td>\n",
       "      <td>No</td>\n",
       "      <td>No</td>\n",
       "      <td>No</td>\n",
       "      <td>No</td>\n",
       "      <td>No</td>\n",
       "      <td>Don't know</td>\n",
       "      <td>No</td>\n",
       "    </tr>\n",
       "    <tr>\n",
       "      <th>2</th>\n",
       "      <td>2014-08-27 11:29:44</td>\n",
       "      <td>32</td>\n",
       "      <td>male</td>\n",
       "      <td>Canada</td>\n",
       "      <td>Unknown</td>\n",
       "      <td>Unknown</td>\n",
       "      <td>No</td>\n",
       "      <td>No</td>\n",
       "      <td>Rarely</td>\n",
       "      <td>6-25</td>\n",
       "      <td>...</td>\n",
       "      <td>Don't know</td>\n",
       "      <td>Somewhat difficult</td>\n",
       "      <td>No</td>\n",
       "      <td>No</td>\n",
       "      <td>Yes</td>\n",
       "      <td>Yes</td>\n",
       "      <td>Yes</td>\n",
       "      <td>Yes</td>\n",
       "      <td>No</td>\n",
       "      <td>No</td>\n",
       "    </tr>\n",
       "    <tr>\n",
       "      <th>3</th>\n",
       "      <td>2014-08-27 11:29:46</td>\n",
       "      <td>31</td>\n",
       "      <td>male</td>\n",
       "      <td>United Kingdom</td>\n",
       "      <td>Unknown</td>\n",
       "      <td>Unknown</td>\n",
       "      <td>Yes</td>\n",
       "      <td>Yes</td>\n",
       "      <td>Often</td>\n",
       "      <td>26-100</td>\n",
       "      <td>...</td>\n",
       "      <td>No</td>\n",
       "      <td>Somewhat difficult</td>\n",
       "      <td>Yes</td>\n",
       "      <td>Yes</td>\n",
       "      <td>Some of them</td>\n",
       "      <td>No</td>\n",
       "      <td>Maybe</td>\n",
       "      <td>Maybe</td>\n",
       "      <td>No</td>\n",
       "      <td>Yes</td>\n",
       "    </tr>\n",
       "    <tr>\n",
       "      <th>4</th>\n",
       "      <td>2014-08-27 11:30:22</td>\n",
       "      <td>31</td>\n",
       "      <td>male</td>\n",
       "      <td>United States</td>\n",
       "      <td>TX</td>\n",
       "      <td>Unknown</td>\n",
       "      <td>No</td>\n",
       "      <td>No</td>\n",
       "      <td>Never</td>\n",
       "      <td>100-500</td>\n",
       "      <td>...</td>\n",
       "      <td>Don't know</td>\n",
       "      <td>Don't know</td>\n",
       "      <td>No</td>\n",
       "      <td>No</td>\n",
       "      <td>Some of them</td>\n",
       "      <td>Yes</td>\n",
       "      <td>Yes</td>\n",
       "      <td>Yes</td>\n",
       "      <td>Don't know</td>\n",
       "      <td>No</td>\n",
       "    </tr>\n",
       "  </tbody>\n",
       "</table>\n",
       "<p>5 rows × 26 columns</p>\n",
       "</div>"
      ],
      "text/plain": [
       "             Timestamp  Age Gender         Country    state self_employed  \\\n",
       "0  2014-08-27 11:29:31   37   male   United States       IL       Unknown   \n",
       "1  2014-08-27 11:29:37   44   male   United States       IN       Unknown   \n",
       "2  2014-08-27 11:29:44   32   male          Canada  Unknown       Unknown   \n",
       "3  2014-08-27 11:29:46   31   male  United Kingdom  Unknown       Unknown   \n",
       "4  2014-08-27 11:30:22   31   male   United States       TX       Unknown   \n",
       "\n",
       "  family_history treatment work_interfere    no_employees  ...   anonymity  \\\n",
       "0             No       Yes          Often            6-25  ...         Yes   \n",
       "1             No        No         Rarely  More than 1000  ...  Don't know   \n",
       "2             No        No         Rarely            6-25  ...  Don't know   \n",
       "3            Yes       Yes          Often          26-100  ...          No   \n",
       "4             No        No          Never         100-500  ...  Don't know   \n",
       "\n",
       "                leave mental_health_consequence phys_health_consequence  \\\n",
       "0       Somewhat easy                        No                      No   \n",
       "1          Don't know                     Maybe                      No   \n",
       "2  Somewhat difficult                        No                      No   \n",
       "3  Somewhat difficult                       Yes                     Yes   \n",
       "4          Don't know                        No                      No   \n",
       "\n",
       "      coworkers supervisor mental_health_interview phys_health_interview  \\\n",
       "0  Some of them        Yes                      No                 Maybe   \n",
       "1            No         No                      No                    No   \n",
       "2           Yes        Yes                     Yes                   Yes   \n",
       "3  Some of them         No                   Maybe                 Maybe   \n",
       "4  Some of them        Yes                     Yes                   Yes   \n",
       "\n",
       "  mental_vs_physical obs_consequence  \n",
       "0                Yes              No  \n",
       "1         Don't know              No  \n",
       "2                 No              No  \n",
       "3                 No             Yes  \n",
       "4         Don't know              No  \n",
       "\n",
       "[5 rows x 26 columns]"
      ]
     },
     "execution_count": 353,
     "metadata": {},
     "output_type": "execute_result"
    }
   ],
   "source": [
    "df.head()"
   ]
  },
  {
   "cell_type": "markdown",
   "id": "a2522777-4715-4c75-a4da-841f5ff6fd23",
   "metadata": {},
   "source": [
    "## 5. Calculate Indicators "
   ]
  },
  {
   "cell_type": "code",
   "execution_count": 356,
   "id": "38160571-79b3-42aa-b578-59ffb08e9d0a",
   "metadata": {},
   "outputs": [
    {
     "name": "stdout",
     "output_type": "stream",
     "text": [
      "\n",
      "Percentage receiving treatment: 50.52 %\n",
      "\n",
      "Distribution by Gender:\n",
      " Gender\n",
      "male      1170\n",
      "female      57\n",
      "other       24\n",
      "Name: count, dtype: int64\n"
     ]
    }
   ],
   "source": [
    "print(\"\\nPercentage receiving treatment:\", round((df['treatment'] == 'Yes').mean() * 100, 2), \"%\")\n",
    "print(\"\\nDistribution by Gender:\\n\", df['Gender'].value_counts())"
   ]
  },
  {
   "cell_type": "markdown",
   "id": "ce5ea75d-e235-477d-a623-e0efe7b6f8fb",
   "metadata": {},
   "source": [
    "## 6. Plot Treatment by Country"
   ]
  },
  {
   "cell_type": "code",
   "execution_count": 359,
   "id": "62fc189f-8936-4ea2-ae41-eb1861b85588",
   "metadata": {},
   "outputs": [
    {
     "data": {
      "image/png": "[encoded data removed]",
      "text/plain": [
       "<Figure size 1000x500 with 1 Axes>"
      ]
     },
     "metadata": {},
     "output_type": "display_data"
    }
   ],
   "source": [
    "plt.figure(figsize=(10, 5))\n",
    "treatment_by_country = df[df['treatment'] == 'Yes'].groupby('Country').size().sort_values(ascending=False).head(10)\n",
    "sns.barplot(x=treatment_by_country.values, y=treatment_by_country.index)\n",
    "plt.title(\"Top 10 Countries by Mental Health Treatment Count\")\n",
    "plt.xlabel(\"Number of People Receiving Treatment\")\n",
    "plt.ylabel(\"Country\")\n",
    "plt.tight_layout()\n",
    "plt.show()"
   ]
  },
  {
   "cell_type": "markdown",
   "id": "e550d5ad-b338-4e89-93e0-b2d44e01906d",
   "metadata": {},
   "source": [
    "## 7. Plot Work Interference"
   ]
  },
  {
   "cell_type": "code",
   "execution_count": 362,
   "id": "b336dd21-cf6e-40e8-ad07-18771a4dca18",
   "metadata": {},
   "outputs": [
    {
     "data": {
      "image/png": "[encoded data removed]",
      "text/plain": [
       "<Figure size 600x400 with 1 Axes>"
      ]
     },
     "metadata": {},
     "output_type": "display_data"
    }
   ],
   "source": [
    "plt.figure(figsize=(6, 4))\n",
    "sns.countplot(data=df, y='work_interfere', order=df['work_interfere'].value_counts().index)\n",
    "plt.title(\"How Mental Health Interferes with Work\")\n",
    "plt.xlabel(\"Count\")\n",
    "plt.ylabel(\"Response\")\n",
    "plt.tight_layout()\n",
    "plt.show()"
   ]
  },
  {
   "cell_type": "markdown",
   "id": "516a64c3-8c25-4267-81e2-1ad0afab310f",
   "metadata": {},
   "source": [
    "## 8. Save Aggregated Stats"
   ]
  },
  {
   "cell_type": "code",
   "execution_count": 365,
   "id": "d2d8af6c-3303-4d61-abf4-1a5b05f695bb",
   "metadata": {},
   "outputs": [
    {
     "name": "stdout",
     "output_type": "stream",
     "text": [
      "✅ Treatment statistics saved to data/processed/treatment_stats.csv\n"
     ]
    }
   ],
   "source": [
    "treatment_stats = df['treatment'].value_counts(normalize=True) * 100\n",
    "treatment_stats.to_csv(\"treatment_stats.csv\")\n",
    "print(\"✅ Treatment statistics saved to data/processed/treatment_stats.csv\")"
   ]
  },
  {
   "cell_type": "code",
   "execution_count": 367,
   "id": "bddeaa80-a18f-411a-94e4-9d616ce73651",
   "metadata": {},
   "outputs": [
    {
     "data": {
      "text/plain": [
       "treatment\n",
       "Yes    50.519584\n",
       "No     49.480416\n",
       "Name: proportion, dtype: float64"
      ]
     },
     "execution_count": 367,
     "metadata": {},
     "output_type": "execute_result"
    }
   ],
   "source": [
    "treatment_stats"
   ]
  },
  {
   "cell_type": "markdown",
   "id": "f494c20c-7e09-414a-a3f7-e7515d02d505",
   "metadata": {},
   "source": [
    "## 9. Crosstab: Treatment by Gender and Country"
   ]
  },
  {
   "cell_type": "code",
   "execution_count": 390,
   "id": "877d7a54-94db-4902-9127-80fd10fcb834",
   "metadata": {
    "scrolled": true
   },
   "outputs": [
    {
     "name": "stdout",
     "output_type": "stream",
     "text": [
      "✅ Treatment by country/gender exported\n"
     ]
    }
   ],
   "source": [
    "# Create crosstab\n",
    "treatment_ct = pd.crosstab(df['Country'], df['Gender'], margins=True)\n",
    "\n",
    "# Save to CSV in current directory\n",
    "treatment_ct.to_csv(\"treatment_by_country_gender.csv\")\n",
    "\n",
    "print(\"✅ Treatment by country/gender exported\")"
   ]
  },
  {
   "cell_type": "markdown",
   "id": "9d15267e-3ccd-4cc6-bb9b-8fcde7b92c55",
   "metadata": {},
   "source": [
    "## 10. Export Grouped Summary"
   ]
  },
  {
   "cell_type": "code",
   "execution_count": 393,
   "id": "5eba4a4e-bb89-4947-bfbd-7ec42662a85e",
   "metadata": {},
   "outputs": [
    {
     "name": "stdout",
     "output_type": "stream",
     "text": [
      "✅ treatment_summary.csv exported\n"
     ]
    }
   ],
   "source": [
    "grouped = df.groupby(['Country', 'Gender'])['treatment'].value_counts().unstack(fill_value=0).reset_index()\n",
    "grouped.to_csv(\"treatment_summary.csv\", index=False)\n",
    "print(\"✅ treatment_summary.csv exported\")"
   ]
  },
  {
   "cell_type": "markdown",
   "id": "4c7cea6c-b422-413e-a84d-adb0ddb48d30",
   "metadata": {},
   "source": [
    "## 11. Final Plot: Gender vs. Treatment"
   ]
  },
  {
   "cell_type": "code",
   "execution_count": 396,
   "id": "d2cba09b-4ec3-47cf-a121-5b9276ac16c5",
   "metadata": {},
   "outputs": [
    {
     "name": "stdout",
     "output_type": "stream",
     "text": [
      "✅ treatment_by_gender.png saved\n"
     ]
    },
    {
     "data": {
      "image/png": "[encoded data removed]",
      "text/plain": [
       "<Figure size 600x400 with 1 Axes>"
      ]
     },
     "metadata": {},
     "output_type": "display_data"
    }
   ],
   "source": [
    "plt.figure(figsize=(6,4))\n",
    "sns.countplot(data=df, x='Gender', hue='treatment')\n",
    "plt.title(\"Treatment Rate by Gender\")\n",
    "plt.tight_layout()\n",
    "plt.savefig(\"treatment_by_gender.png\")\n",
    "print(\"✅ treatment_by_gender.png saved\")"
   ]
  },
  {
   "cell_type": "markdown",
   "id": "ca61312b-5bec-46ec-a33a-1011b6fe32ba",
   "metadata": {},
   "source": [
    "## 12. Export Data for Power BI"
   ]
  },
  {
   "cell_type": "code",
   "execution_count": 399,
   "id": "cb8a1dca-0ba3-416e-be6f-cd2eda807928",
   "metadata": {},
   "outputs": [
    {
     "name": "stdout",
     "output_type": "stream",
     "text": [
      "✅ Data for Power BI dashboard saved to dashboard/final_data_for_dashboard.csv\n"
     ]
    }
   ],
   "source": [
    "os.makedirs(\"dashboard\", exist_ok=True)\n",
    "df.to_csv(\"final_data_for_dashboard.csv\", index=False)\n",
    "print(\"✅ Data for Power BI dashboard saved to dashboard/final_data_for_dashboard.csv\")"
   ]
  }
 ],
 "metadata": {
  "kernelspec": {
   "display_name": "Python 3 (ipykernel)",
   "language": "python",
   "name": "python3"
  },
  "language_info": {
   "codemirror_mode": {
    "name": "ipython",
    "version": 3
   },
   "file_extension": ".py",
   "mimetype": "text/x-python",
   "name": "python",
   "nbconvert_exporter": "python",
   "pygments_lexer": "ipython3",
   "version": "3.11.7"
  }
 },
 "nbformat": 4,
 "nbformat_minor": 5
}
